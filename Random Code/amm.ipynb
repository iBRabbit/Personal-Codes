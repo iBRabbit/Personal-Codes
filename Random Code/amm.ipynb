{
 "cells": [
  {
   "cell_type": "code",
   "execution_count": null,
   "metadata": {},
   "outputs": [
    {
     "ename": "",
     "evalue": "",
     "output_type": "error",
     "traceback": [
      "\u001b[1;31mRunning cells with 'Python 3.10.2 64-bit' requires ipykernel package.\n",
      "Run the following command to install 'ipykernel' into the Python environment. \n",
      "Command: 'c:/Users/prima/AppData/Local/Programs/Python/Python310/python.exe -m pip install ipykernel -U --user --force-reinstall'"
     ]
    }
   ],
   "source": [
    "import math\n",
    "import matplotlib.pyplot as plt\n",
    "\n",
    "Mu = 4\n",
    "Lambda = 3\n",
    "Cw = 75000\n",
    "Cs = 50000\n",
    "n = 8\n",
    "\n",
    "def sum(m):\n",
    "    result = 0;\n",
    "    for n in range(0, m):\n",
    "        result += ((1/(math.factorial(n))) * (Lambda / Mu) ** n)\n",
    "    return result\n",
    "\n",
    "def Po(m) :\n",
    "    # print(sum(m))\n",
    "    Po = 1 / ((sum(m)) + (1/(math.factorial(m))) * ((Lambda / Mu) ** m) * ((m * Mu) / (m * Mu - Lambda)))\n",
    "    return Po\n",
    "\n",
    "y_axis = []\n",
    "x_axis  = []\n",
    "\n",
    "for i in range(0, 49) :\n",
    "    x_axis.append(i)\n",
    "\n",
    "for m in range(1, 50) :\n",
    "    Wq = ((Mu * (Lambda / Mu) ** m) * Po(m)) / (math.factorial(m - 1) * (m * Mu - Lambda) ** 2)\n",
    "    Total_Waiting_Cost = n * 3 * Wq * Cw\n",
    "    Total_Service_Cost = n * m * Cs\n",
    "    print(f\"Wq : {Wq} Po : {Po(m)} Ts : {Total_Service_Cost} Tw :{Total_Waiting_Cost} T: {Total_Service_Cost + Total_Waiting_Cost}\")\n",
    "    y_axis.append(Total_Service_Cost + Total_Waiting_Cost)\n",
    "    \n",
    "p = plt.plot(x_axis, y_axis)\n",
    "plt.show(p)\n",
    "    \n"
   ]
  },
  {
   "cell_type": "code",
   "execution_count": null,
   "metadata": {},
   "outputs": [],
   "source": []
  }
 ],
 "metadata": {
  "interpreter": {
   "hash": "0a66374b8e0c05c31f311bf1a0bb70a1f74b181cb0b2afa3a7f43061e8666a0d"
  },
  "kernelspec": {
   "display_name": "Python 3.10.2 64-bit",
   "language": "python",
   "name": "python3"
  },
  "language_info": {
   "codemirror_mode": {
    "name": "ipython",
    "version": 3
   },
   "file_extension": ".py",
   "mimetype": "text/x-python",
   "name": "python",
   "nbconvert_exporter": "python",
   "pygments_lexer": "ipython3",
   "version": "3.10.2"
  },
  "orig_nbformat": 4
 },
 "nbformat": 4,
 "nbformat_minor": 2
}
