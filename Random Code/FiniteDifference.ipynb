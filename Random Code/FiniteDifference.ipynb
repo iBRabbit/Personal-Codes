{
 "cells": [
  {
   "cell_type": "markdown",
   "metadata": {},
   "source": [
    "<h3> Deklarasi Fungsi"
   ]
  },
  {
   "cell_type": "code",
   "execution_count": 45,
   "metadata": {},
   "outputs": [],
   "source": [
    "def f(x) :\n",
    "    return x ** 2"
   ]
  },
  {
   "cell_type": "markdown",
   "metadata": {},
   "source": [
    "<h3> Error Formula"
   ]
  },
  {
   "cell_type": "code",
   "execution_count": 46,
   "metadata": {},
   "outputs": [],
   "source": [
    "def error(eksak, hampiran) :\n",
    "    return (abs(hampiran - eksak) / eksak) * 100\n",
    "    "
   ]
  },
  {
   "cell_type": "markdown",
   "metadata": {},
   "source": [
    "<h4> Forward Difference"
   ]
  },
  {
   "cell_type": "code",
   "execution_count": 52,
   "metadata": {},
   "outputs": [
    {
     "name": "stdout",
     "output_type": "stream",
     "text": [
      "h : 1 f(2) : 5.0 Error : 25.0 %\n",
      "h : 0.1 f(2) : 4.100000000000001 Error : 2.5000000000000355 %\n",
      "h : 0.01 f(2) : 4.009999999999891 Error : 0.24999999999728573 %\n",
      "h : 0.001 f(2) : 4.000999999999699 Error : 0.024999999992481037 %\n",
      "h : 0.0001 f(2) : 4.0001000000078335 Error : 0.002500000195837515 %\n",
      "h : 1e-05 f(2) : 4.000010000027032 Error : 0.0002500006758054951 %\n",
      "h : 1.0000000000000002e-06 f(2) : 4.000001000648012 Error : 2.5016200289051937e-05 %\n",
      "h : 1.0000000000000002e-07 f(2) : 4.00000009115331 Error : 2.2788327447287315e-06 %\n",
      "h : 1.0000000000000002e-08 f(2) : 3.9999999756901152 Error : 6.077471192966755e-07 %\n",
      "h : 1.0000000000000003e-09 f(2) : 4.000000330961483 Error : 8.274037077704577e-06 %\n"
     ]
    }
   ],
   "source": [
    "h = 1\n",
    "Nilai_Eksak = 4\n",
    "for i in range(0, 10) :\n",
    "    hampiran = (f(2 + h) - f(2)) / h\n",
    "    Error = error(4, hampiran)\n",
    "    print(f'h : {h} f(2) : {hampiran} Error : {Error} %')\n",
    "    h /= 10"
   ]
  },
  {
   "cell_type": "code",
   "execution_count": null,
   "metadata": {},
   "outputs": [],
   "source": []
  }
 ],
 "metadata": {
  "interpreter": {
   "hash": "919eb0904b72c37e8d6c7e3b2f7b6f162c89cafcc297fba09b2d10c79c52f5eb"
  },
  "kernelspec": {
   "display_name": "Python 3.8.5 ('base')",
   "language": "python",
   "name": "python3"
  },
  "language_info": {
   "name": "python",
   "version": "3.8.5"
  },
  "orig_nbformat": 4
 },
 "nbformat": 4,
 "nbformat_minor": 2
}
