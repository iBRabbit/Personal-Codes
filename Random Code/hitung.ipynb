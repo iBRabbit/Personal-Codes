{
 "cells": [
  {
   "cell_type": "code",
   "execution_count": 1,
   "metadata": {},
   "outputs": [],
   "source": [
    "converter = lambda amount, currency: \"%s%s%s\" %(\n",
    "    \"-\" if amount < 0 else \"\", \n",
    "    currency, \n",
    "    ('{:%d,.2f}'%(len(str(amount))+3)).format(abs(amount)).lstrip())\n",
    "\n",
    "def f(amount, name = \"\") :\n",
    "    if name == \"\" :\n",
    "        print(converter(amount, \"\"))\n",
    "    else :\n",
    "        print(name, \":\", converter(amount, \"\"))\n",
    "    \n",
    "    return amount\n"
   ]
  },
  {
   "cell_type": "code",
   "execution_count": null,
   "metadata": {},
   "outputs": [],
   "source": [
    "# Latihan Actuarial Mathematics\n",
    "\n",
    "f(485000 / 0.04, \"tes\")\n",
    "f(1000000 * (1 + 8/100) ** 2)"
   ]
  },
  {
   "cell_type": "code",
   "execution_count": 2,
   "metadata": {},
   "outputs": [
    {
     "data": {
      "text/plain": [
       "105.84615384615384"
      ]
     },
     "execution_count": 2,
     "metadata": {},
     "output_type": "execute_result"
    }
   ],
   "source": []
  },
  {
   "cell_type": "markdown",
   "metadata": {},
   "source": []
  },
  {
   "cell_type": "code",
   "execution_count": 41,
   "metadata": {},
   "outputs": [
    {
     "name": "stdout",
     "output_type": "stream",
     "text": [
      "P : 7.317\n",
      "Q : -5.817\n"
     ]
    }
   ],
   "source": [
    "p = round((900+884+851+799+772+750+713+698)/934, 3)\n",
    "print(f\"P : {1/2 + p}\");\n",
    "print(f\"Q : {round(1-p,3)}\")"
   ]
  },
  {
   "cell_type": "markdown",
   "metadata": {},
   "source": []
  },
  {
   "cell_type": "code",
   "execution_count": 7,
   "metadata": {},
   "outputs": [
    {
     "data": {
      "text/plain": [
       "5.13"
      ]
     },
     "execution_count": 7,
     "metadata": {},
     "output_type": "execute_result"
    }
   ],
   "source": [
    "1/2 + 4.63"
   ]
  },
  {
   "cell_type": "code",
   "execution_count": 2,
   "metadata": {},
   "outputs": [
    {
     "data": {
      "text/plain": [
       "968"
      ]
     },
     "execution_count": 2,
     "metadata": {},
     "output_type": "execute_result"
    }
   ],
   "source": [
    "1000-32"
   ]
  },
  {
   "cell_type": "code",
   "execution_count": 2,
   "metadata": {},
   "outputs": [
    {
     "data": {
      "text/plain": [
       "84"
      ]
     },
     "execution_count": 2,
     "metadata": {},
     "output_type": "execute_result"
    }
   ],
   "source": [
    "35+49"
   ]
  },
  {
   "cell_type": "code",
   "execution_count": 14,
   "metadata": {},
   "outputs": [
    {
     "data": {
      "text/plain": [
       "0.9700246071784895"
      ]
     },
     "execution_count": 14,
     "metadata": {},
     "output_type": "execute_result"
    }
   ],
   "source": [
    "96102.8145/99072.5532"
   ]
  },
  {
   "cell_type": "code",
   "execution_count": 1,
   "metadata": {},
   "outputs": [],
   "source": [
    "def f(x):\n",
    "    return x ** 16 - 16 * x + 14\n",
    "\n",
    "def df(x):\n",
    "    return 16 * x ** 15 - 16\n",
    "\n"
   ]
  },
  {
   "cell_type": "code",
   "execution_count": 4,
   "metadata": {},
   "outputs": [
    {
     "name": "stdout",
     "output_type": "stream",
     "text": [
      "1.88\n",
      "1.76\n",
      "1.65\n",
      "1.55\n",
      "1.45\n",
      "1.36\n",
      "1.28\n",
      "1.21\n",
      "1.15\n",
      "1.11\n",
      "1.08\n",
      "1.08\n",
      "1.08\n",
      "1.08\n",
      "1.08\n",
      "1.08\n",
      "1.08\n",
      "1.08\n",
      "1.08\n",
      "1.08\n",
      "1.08\n",
      "1.08\n",
      "1.08\n",
      "1.08\n",
      "1.08\n",
      "1.08\n",
      "1.08\n",
      "1.08\n",
      "1.08\n",
      "1.08\n",
      "1.08\n",
      "1.08\n",
      "1.08\n",
      "1.08\n",
      "1.08\n",
      "1.08\n",
      "1.08\n",
      "1.08\n",
      "1.08\n",
      "1.08\n",
      "1.08\n",
      "1.08\n",
      "1.08\n",
      "1.08\n",
      "1.08\n",
      "1.08\n",
      "1.08\n",
      "1.08\n",
      "1.08\n",
      "1.08\n"
     ]
    }
   ],
   "source": [
    "old_x = 2\n",
    "new_x = 0\n",
    "\n",
    "for i in range(0,50) :\n",
    "    new_x = old_x - f(old_x) / df(old_x)\n",
    "    old_x = round(new_x,2)\n",
    "    print(round(new_x,2))"
   ]
  },
  {
   "cell_type": "code",
   "execution_count": 1,
   "metadata": {},
   "outputs": [
    {
     "data": {
      "text/plain": [
       "968"
      ]
     },
     "execution_count": 1,
     "metadata": {},
     "output_type": "execute_result"
    }
   ],
   "source": [
    "1000-32"
   ]
  },
  {
   "cell_type": "code",
   "execution_count": null,
   "metadata": {},
   "outputs": [],
   "source": []
  }
 ],
 "metadata": {
  "kernelspec": {
   "display_name": "Python 3.8.5 ('base')",
   "language": "python",
   "name": "python3"
  },
  "language_info": {
   "codemirror_mode": {
    "name": "ipython",
    "version": 3
   },
   "file_extension": ".py",
   "mimetype": "text/x-python",
   "name": "python",
   "nbconvert_exporter": "python",
   "pygments_lexer": "ipython3",
   "version": "3.8.5"
  },
  "orig_nbformat": 4,
  "vscode": {
   "interpreter": {
    "hash": "690fcc030dbde6f3f652c519b06a0d95da528e66105ed58c88e506e5818277cb"
   }
  }
 },
 "nbformat": 4,
 "nbformat_minor": 2
}
