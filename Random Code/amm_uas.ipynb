{
 "cells": [
  {
   "cell_type": "code",
   "execution_count": 5,
   "metadata": {},
   "outputs": [
    {
     "name": "stdout",
     "output_type": "stream",
     "text": [
      "state : 1 | sum : 1\n",
      "[0. 0. 0. 1. 0. 0. 0. 0. 0. 0. 0.]\n",
      "state : 2 | sum : 1.0\n",
      "[0. 0. 0. 0. 1. 0. 0. 0. 0. 0. 0.]\n",
      "state : 3 | sum : 1.0\n",
      "[0. 0. 0. 0. 0. 1. 0. 0. 0. 0. 0.]\n",
      "state : 4 | sum : 1.0\n",
      "[0.  0.  0.  0.  0.  0.  0.5 0.5 0.  0.  0. ]\n",
      "state : 5 | sum : 1.0\n",
      "[1. 0. 0. 0. 0. 0. 0. 0. 0. 0. 0.]\n",
      "state : 6 | sum : 1.0\n",
      "[0.  0.5 0.5 0.  0.  0.  0.  0.  0.  0.  0. ]\n",
      "state : 7 | sum : 1.0\n",
      "[0.  0.  0.  0.5 0.  0.  0.  0.  0.  0.5 0. ]\n",
      "state : 8 | sum : 1.0\n",
      "[0.  0.  0.  0.  0.5 0.  0.  0.  0.  0.  0.5]\n",
      "state : 9 | sum : 1.0\n",
      "[0.5 0.  0.  0.  0.  0.5 0.  0.  0.  0.  0. ]\n",
      "state : 10 | sum : 1.0\n",
      "[0.   0.25 0.25 0.   0.   0.   0.25 0.25 0.   0.   0.  ]\n",
      "state : 11 | sum : 1.0\n",
      "[0.5  0.   0.   0.25 0.   0.   0.   0.   0.   0.25 0.  ]\n",
      "state : 12 | sum : 1.0\n",
      "[0.   0.25 0.25 0.   0.25 0.   0.   0.   0.   0.   0.25]\n",
      "state : 13 | sum : 1.0\n",
      "[0.25 0.   0.   0.25 0.   0.25 0.   0.   0.   0.25 0.  ]\n",
      "state : 14 | sum : 1.0\n",
      "[0.    0.125 0.125 0.    0.25  0.    0.125 0.125 0.    0.    0.25 ]\n",
      "state : 15 | sum : 1.0\n",
      "[0.5   0.    0.    0.125 0.    0.25  0.    0.    0.    0.125 0.   ]\n",
      "state : 16 | sum : 1.0\n",
      "[0.    0.25  0.25  0.    0.125 0.    0.125 0.125 0.    0.    0.125]\n",
      "state : 17 | sum : 1.0\n",
      "[0.375 0.    0.    0.25  0.    0.125 0.    0.    0.    0.25  0.   ]\n",
      "state : 18 | sum : 1.0\n",
      "[0.     0.1875 0.1875 0.     0.25   0.     0.0625 0.0625 0.     0.\n",
      " 0.25  ]\n",
      "state : 19 | sum : 1.0\n",
      "[0.375  0.     0.     0.1875 0.     0.25   0.     0.     0.     0.1875\n",
      " 0.    ]\n",
      "state : 20 | sum : 1.0\n",
      "[0.     0.1875 0.1875 0.     0.1875 0.     0.125  0.125  0.     0.\n",
      " 0.1875]\n"
     ]
    }
   ],
   "source": [
    "import numpy as np\n",
    "\n",
    "transitionMatrix = np.array(\n",
    "    (\n",
    "        [0,0,0,0,0,0,1,1,0,0,1],\n",
    "        [0.5,0,0,0,0,0,0,0,0,0,0],\n",
    "        [0.5,0,0,0,0,0,0,0,0,0,0],\n",
    "        [0,1,0,0,0,0,0,0,0,0,0],\n",
    "        [0,0,0,1,0,0,0,0,0,0,0],\n",
    "        [0,0,0,0,1,0,0,0,0.5,0,0],\n",
    "        [0,0,0,0,0,0.5,0,0,0,0,0],\n",
    "        [0,0,0,0,0,0.5,0,0,0,0,0],\n",
    "        [0,0,0,0,0,0,0,0,0,0,0],\n",
    "        [0,0,1,0,0,0,0,0,0.5,0,0],\n",
    "        [0,0,0,0,0,0,0,0,0,1,0],\n",
    "    )\n",
    ");\n",
    "\n",
    "\n",
    "currentState = np.array(\n",
    "    (\n",
    "        [0, 1, 0, 0, 0, 0, 0, 0, 0, 0, 0]\n",
    "    )\n",
    ")\n",
    "\n",
    "\n",
    "for i in range(0,20):\n",
    "    print(f\"state : {i + 1} | sum : {np.sum(currentState)}\")\n",
    "    currentState = np.matmul(transitionMatrix, currentState)\n",
    "    \n",
    "    print(currentState)\n",
    "\n"
   ]
  },
  {
   "cell_type": "code",
   "execution_count": null,
   "metadata": {},
   "outputs": [],
   "source": []
  }
 ],
 "metadata": {
  "kernelspec": {
   "display_name": "Python 3.8.5 ('base')",
   "language": "python",
   "name": "python3"
  },
  "language_info": {
   "codemirror_mode": {
    "name": "ipython",
    "version": 3
   },
   "file_extension": ".py",
   "mimetype": "text/x-python",
   "name": "python",
   "nbconvert_exporter": "python",
   "pygments_lexer": "ipython3",
   "version": "3.8.5"
  },
  "orig_nbformat": 4,
  "vscode": {
   "interpreter": {
    "hash": "690fcc030dbde6f3f652c519b06a0d95da528e66105ed58c88e506e5818277cb"
   }
  }
 },
 "nbformat": 4,
 "nbformat_minor": 2
}
